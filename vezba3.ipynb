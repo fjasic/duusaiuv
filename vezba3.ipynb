{
  "nbformat": 4,
  "nbformat_minor": 0,
  "metadata": {
    "accelerator": "GPU",
    "colab": {
      "name": "vezba3",
      "provenance": [],
      "collapsed_sections": [],
      "authorship_tag": "ABX9TyMXIgoMCzNbRViITI7bpXdE",
      "include_colab_link": true
    },
    "kernelspec": {
      "display_name": "Python 3",
      "name": "python3"
    }
  },
  "cells": [
    {
      "cell_type": "markdown",
      "metadata": {
        "id": "view-in-github",
        "colab_type": "text"
      },
      "source": [
        "<a href=\"https://colab.research.google.com/github/fjasic/duusaiuv/blob/main/vezba3.ipynb\" target=\"_parent\"><img src=\"https://colab.research.google.com/assets/colab-badge.svg\" alt=\"Open In Colab\"/></a>"
      ]
    },
    {
      "cell_type": "code",
      "metadata": {
        "id": "IZxVp-nsQwRj"
      },
      "source": [
        "%tensorflow_version 1.x"
      ],
      "execution_count": null,
      "outputs": []
    },
    {
      "cell_type": "code",
      "metadata": {
        "colab": {
          "base_uri": "https://localhost:8080/"
        },
        "id": "ywOIGWW5RI2h",
        "outputId": "0a7fe19c-cb9e-49d2-a806-949d741ab5c7"
      },
      "source": [
        "!wget https://btsd.ethz.ch/shareddata/BelgiumTSC/BelgiumTSC_Training.zip\r\n",
        "!wget https://btsd.ethz.ch/shareddata/BelgiumTSC/BelgiumTSC_Testing.zip\r\n",
        "!unzip -qq BelgiumTSC_Training.zip\r\n",
        "!unzip -qq BelgiumTSC_Testing.zip"
      ],
      "execution_count": 7,
      "outputs": [
        {
          "output_type": "stream",
          "text": [
            "--2021-02-03 14:52:01--  https://btsd.ethz.ch/shareddata/BelgiumTSC/BelgiumTSC_Training.zip\n",
            "Resolving btsd.ethz.ch (btsd.ethz.ch)... 129.132.52.185, 2001:67c:10ec:36c2::b9\n",
            "Connecting to btsd.ethz.ch (btsd.ethz.ch)|129.132.52.185|:443... connected.\n",
            "HTTP request sent, awaiting response... 200 OK\n",
            "Length: 174298785 (166M) [application/zip]\n",
            "Saving to: ‘BelgiumTSC_Training.zip’\n",
            "\n",
            "BelgiumTSC_Training 100%[===================>] 166.22M   536KB/s    in 6m 18s  \n",
            "\n",
            "2021-02-03 14:58:20 (450 KB/s) - ‘BelgiumTSC_Training.zip’ saved [174298785/174298785]\n",
            "\n",
            "--2021-02-03 14:58:20--  https://btsd.ethz.ch/shareddata/BelgiumTSC/BelgiumTSC_Testing.zip\n",
            "Resolving btsd.ethz.ch (btsd.ethz.ch)... 129.132.52.185, 2001:67c:10ec:36c2::b9\n",
            "Connecting to btsd.ethz.ch (btsd.ethz.ch)|129.132.52.185|:443... connected.\n",
            "HTTP request sent, awaiting response... 200 OK\n",
            "Length: 77877833 (74M) [application/zip]\n",
            "Saving to: ‘BelgiumTSC_Testing.zip’\n",
            "\n",
            "BelgiumTSC_Testing. 100%[===================>]  74.27M   506KB/s    in 2m 28s  \n",
            "\n",
            "2021-02-03 15:00:48 (515 KB/s) - ‘BelgiumTSC_Testing.zip’ saved [77877833/77877833]\n",
            "\n"
          ],
          "name": "stdout"
        }
      ]
    },
    {
      "cell_type": "code",
      "metadata": {
        "colab": {
          "base_uri": "https://localhost:8080/"
        },
        "id": "7dhBCC44Y54X",
        "outputId": "c9948224-f757-4f6c-8fdb-04464f33dd38"
      },
      "source": [
        "# Vežba 3 - konvolucioni slojevi\r\n",
        "from __future__ import division, print_function, absolute_import\r\n",
        "\r\n",
        "import numpy as np # linearna algebra\r\n",
        "import pandas as pd # obrada podataka, csv datoteka (npr. pd.read_csv)\r\n",
        "\r\n",
        "import matplotlib\r\n",
        "matplotlib.use('agg')\r\n",
        "import matplotlib.pyplot as plt\r\n",
        "import matplotlib.image as mpimg\r\n",
        "\r\n",
        "import skimage.transform\r\n",
        "\r\n",
        "import tensorflow as tf\r\n",
        "\r\n",
        "import random\r\n",
        "import os\r\n",
        "\r\n",
        "\r\n",
        "print(tf.__version__)\r\n",
        "# Model:\r\n",
        "#\r\n",
        "# · · · · · · · · · ·      (ulazni podaci, dubina 3)            X [batch, 32, 32, 3]\r\n",
        "# @ @ @ @ @ @ @ @ @ @   -- konv. sloj 5x5x3=>6, pomeraj 1       W1 [5, 5, 3, 6]        B1 [6]\r\n",
        "# ∶∶∶∶∶∶∶∶∶∶∶∶∶∶∶∶∶∶∶                                           Y1 [batch, 32, 32, 6]\r\n",
        "#   @ @ @ @ @ @ @ @     -- konv. sloj 5x5x6=>12, pomeraj 2      W2 [5, 5, 6, 12]       B2 [12]\r\n",
        "#   ∶∶∶∶∶∶∶∶∶∶∶∶∶∶∶                                             Y2 [batch, 16, 16, 12]\r\n",
        "#     @ @ @ @ @ @       -- konv. sloj 4x4x12=>24 pomeraj 2      W3 [4, 4, 12, 24]      B3 [24]\r\n",
        "#     ∶∶∶∶∶∶∶∶∶∶∶                                               Y3 [batch, 8, 8, 24] => 'flattened' u YY [batch, 8*8*24]\r\n",
        "#      \\x/x\\x\\x/        -- potpuno povezani sloj (relu)         W4 [8*8*24, 200]       B4 [200]\r\n",
        "#       · · · ·                                                 Y4 [batch, 200]\r\n",
        "#       \\x/x\\x/         -- potpuno povezani sloj (softmax)      W5 [200, 62]           B5 [62]\r\n",
        "#        · · ·                                                  Y [batch, 62]\r\n",
        "\r\n",
        "train_data_dir = os.path.join(\"Training\")\r\n",
        "test_data_dir = os.path.join(\"Testing\")\r\n",
        "\r\n",
        "###########################################################################################\r\n",
        "# Pomoćna funkcija za učitavanje skupa podataka\r\n",
        "# load_data - učitava skup podataka i vraća dve liste: \r\n",
        "# - images: lista Numpy nizova, svaki predstavlja sliku.\r\n",
        "# - labels: lista brojeva koji predstavljaju labele slika.\r\n",
        "###########################################################################################\r\n",
        "def load_data(data_dir):\r\n",
        "    # Prikupljanje svih poddirektorijume direktorijuma data_dir. Svaki od njih predstavlja labelu.\r\n",
        "    directories = [d for d in os.listdir(data_dir) \r\n",
        "                   if os.path.isdir(os.path.join(data_dir, d))]\r\n",
        "    # Iteriranje kroz direktorijume (sa imenima labela) i prikupljanje podataka u dve liste: labele i slike.\r\n",
        "    labels = []\r\n",
        "    images = []\r\n",
        "    for d in directories:\r\n",
        "        label_dir = os.path.join(data_dir, d)\r\n",
        "        file_names = [os.path.join(label_dir, f) \r\n",
        "                      for f in os.listdir(label_dir) if f.endswith(\".ppm\")]\r\n",
        "        # Za svaku labelu, učitavanje pripadajućih slika i dodavanje u listu slika.\r\n",
        "        # I dodavanje labele (t.j. imena direktorijuma) u listu labela.\r\n",
        "        for f in file_names:\r\n",
        "            images.append(mpimg.imread(f))\r\n",
        "            labels.append(int(d))\r\n",
        "    return images, labels\r\n",
        "\r\n",
        "###########################################################################################\r\n",
        "# Učitavanje i predobrada trening skupa podataka\r\n",
        "###########################################################################################\r\n",
        "# Učitavanje trening skupa podataka.\r\n",
        "images, labels = load_data(train_data_dir)\r\n",
        "\r\n",
        "print(\"\\nTrening skup podataka\\n-Broj klasa/labela: {0}\\n-Ukupan broj slika: {1}\".format(len(set(labels)), len(images)))\r\n",
        "\r\n",
        "# Za prvih 5 slika prikaz rezolucije slika (shape), kao i minimalne i maksimalne vrednosti niza (vrednost komponenti boja)\r\n",
        "for image in images[:5]:\r\n",
        "    print(\"\\nOriginalni dataset: Oblik: {0}, min: {1}, max: {2}\".format(image.shape, image.min(), image.max()))\r\n",
        "\r\n",
        "# Skaliranje slika na istu rezoluciju (WxH -> 32x32)\r\n",
        "scaled_imgs = [skimage.transform.resize(image, (32, 32), mode='constant')\r\n",
        "                for image in images]\r\n",
        "\r\n",
        "# Za prvih 5 slika prikaz rezolucije slika (shape), kao i minimalne i maksimalne vrednosti niza (vrednost komponenti boja)\r\n",
        "for image in scaled_imgs[:5]:\r\n",
        "    print(\"\\nSkalirani dataset: Oblik: {0}, min: {1}, max: {2}\".format(image.shape, image.min(), image.max()))\r\n",
        "\r\n",
        "# Promena formata skladištenja: lista -> niz\r\n",
        "labels_a = np.array(labels)         # lista -> (4575,)\r\n",
        "images_a = np.array(scaled_imgs)    # lista -> (4575, 32, 32, 3)\r\n",
        "# Prikaz \r\n",
        "print(\"\\nRezultat predobrade:\\n-Oblik labela: \", labels_a.shape, \"\\n-Oblik slika: \", images_a.shape)"
      ],
      "execution_count": 9,
      "outputs": [
        {
          "output_type": "stream",
          "text": [
            "1.15.2\n",
            "\n",
            "Trening skup podataka\n",
            "-Broj klasa/labela: 62\n",
            "-Ukupan broj slika: 4575\n",
            "\n",
            "Originalni dataset: Oblik: (151, 156, 3), min: 13, max: 255\n",
            "\n",
            "Originalni dataset: Oblik: (94, 106, 3), min: 3, max: 255\n",
            "\n",
            "Originalni dataset: Oblik: (60, 63, 3), min: 4, max: 255\n",
            "\n",
            "Originalni dataset: Oblik: (319, 216, 3), min: 5, max: 255\n",
            "\n",
            "Originalni dataset: Oblik: (151, 160, 3), min: 2, max: 255\n",
            "\n",
            "Skalirani dataset: Oblik: (32, 32, 3), min: 0.09019607843137255, max: 0.996078431372549\n",
            "\n",
            "Skalirani dataset: Oblik: (32, 32, 3), min: 0.06789215686274504, max: 0.996078431372549\n",
            "\n",
            "Skalirani dataset: Oblik: (32, 32, 3), min: 0.08044194240196023, max: 0.996078431372549\n",
            "\n",
            "Skalirani dataset: Oblik: (32, 32, 3), min: 0.048874080882352636, max: 0.996078431372549\n",
            "\n",
            "Skalirani dataset: Oblik: (32, 32, 3), min: 0.03866421568627451, max: 0.9921568627450981\n",
            "\n",
            "Rezultat predobrade:\n",
            "-Oblik labela:  (4575,) \n",
            "-Oblik slika:  (4575, 32, 32, 3)\n"
          ],
          "name": "stdout"
        }
      ]
    },
    {
      "cell_type": "code",
      "metadata": {
        "id": "Nbj19cXUZxew"
      },
      "source": [
        "###########################################################################################\r\n",
        "# Kreiranje modela\r\n",
        "###########################################################################################\r\n",
        "K = 6   # prvi konvolucioni sloj - dubina izlaza\r\n",
        "L = 12  # drugi konvolucioni sloj dubina izlaza\r\n",
        "M = 24  # treći konvolucioni sloj - dubina izlaza\r\n",
        "N = 200  # broj neurona prvog potpuno povezanog sloja\r\n",
        "num_classes = 62  # broj neurona izlaznog sloja = broj klasa\r\n",
        "\r\n",
        "# Kreirati varijable za težinske koeficijente (W1,B1,W2,B2,W3,B3,W4,B4,W5,B5)\r\n",
        "# -> Inicijalizovati koeficijente malim nasumičnim vrednostima između -0.2 i +0.2\r\n",
        "# -> Prilikom korišćenja RELU aktivacione funkcije, bias koeficijenti moraju biti male *pozitivne* vrednosti (npr. 0.1)\r\n",
        "W1 = tf.Variable(tf.truncated_normal(shape=[5, 5, 3, K], stddev=0.1), name = \"W1\")      \r\n",
        "B1 = tf.Variable(tf.ones([K])/10, name = \"B1\") \r\n",
        "\r\n",
        "W2 = tf.Variable(tf.truncated_normal(shape=[5, 5, 6, L], stddev=0.1), name = \"W2\")      \r\n",
        "B2 = tf.Variable(tf.ones([L])/10, name = \"B2\") \r\n",
        "\r\n",
        "W3 = tf.Variable(tf.truncated_normal(shape=[4, 4, 12, M], stddev=0.1), name = \"W3\")      \r\n",
        "B3 = tf.Variable(tf.ones([M])/10, name = \"B3\") \r\n",
        "\r\n",
        "W4 = tf.Variable(tf.truncated_normal(shape=[8*8*24, N], stddev=0.1), name = \"W4\")      \r\n",
        "B4 = tf.Variable(tf.ones([N])/10, name = \"B4\") \r\n",
        "\r\n",
        "W5 = tf.Variable(tf.truncated_normal(shape=[N, num_classes], stddev=0.1), name = \"W5\")      \r\n",
        "B5 = tf.Variable(tf.ones([num_classes])/10, name = \"B5\")\r\n",
        "\r\n",
        "# Kreirati rezervisane varijable (placeholders) za slike i labele.\r\n",
        "# Koristiti None ya oblik, kako bi se veličina batch-a mogla menjati, nakon što s ekonstruiše graf\r\n",
        "# -> ulaz X: 32x32x3 slike, prva dimenzija (None) indeksira slike unutar batch-a\r\n",
        "images_ph = tf.placeholder(tf.float32, [None, 32, 32, 3])\r\n",
        "labels_ph = tf.placeholder(tf.int32, [None])\r\n",
        "\r\n",
        "# TODO -> Definisati model\r\n",
        "# -> promeniti oblik(način smeštanja) izlaza iz trećeg konvolucionog sloja kako bi odgovarao ulazu za potpuno povezani sloj\r\n",
        "sloj_1 = tf.nn.conv2d(input=images_ph, filter=W1, strides=[1, 1, 1, 1], padding=\"SAME\", use_cudnn_on_gpu=True,\r\n",
        "                      dilations=[1, 1, 1, 1], name=None) + B1\r\n",
        "\r\n",
        "sloj_2 = tf.nn.conv2d(input=sloj_1, filter=W2, strides=[1, 2, 2, 1], padding=\"SAME\", use_cudnn_on_gpu=True,\r\n",
        "                      dilations=[1, 1, 1, 1], name=None ) + B2\r\n",
        "\r\n",
        "sloj_3 = tf.nn.conv2d(input=sloj_2, filter=W3, strides=[1, 2, 2, 1], padding=\"SAME\", use_cudnn_on_gpu=True,\r\n",
        "                      dilations=[1, 1, 1, 1], name=None ) + B3\r\n",
        "\r\n",
        "flatten_sloj = tf.contrib.layers.flatten(sloj_3)\r\n",
        "sloj_4 = tf.nn.relu(tf.matmul(flatten_sloj, W4) + B4)\r\n",
        "logits = tf.matmul(sloj_4, W5) + B5\r\n",
        "\r\n",
        "Y = tf.nn.softmax(logits)\r\n",
        "\r\n",
        "# Odrediti klase na osnovu verovatnoća izlaznog sloja\r\n",
        "predicted_classes = tf.argmax(Y, 1)\r\n",
        "\r\n",
        "# Definisati funkciju mere gubitka\r\n",
        "loss = tf.reduce_mean(tf.nn.sparse_softmax_cross_entropy_with_logits(logits=logits, labels=labels_ph))\r\n",
        "\r\n",
        "# Definisati algoritam za adaptaciju koeficijenata i brzine učenja\r\n",
        "train = tf.train.MomentumOptimizer(learning_rate=0.0005, momentum=0.9, use_nesterov=True).minimize(loss)\r\n",
        "\r\n",
        "# Operacija inicijalizacije varijabli\r\n",
        "init = tf.global_variables_initializer()"
      ],
      "execution_count": 21,
      "outputs": []
    },
    {
      "cell_type": "code",
      "metadata": {
        "colab": {
          "base_uri": "https://localhost:8080/"
        },
        "id": "EfddePqrZ9mS",
        "outputId": "7d6aef93-1e1f-4ae0-8a88-039248a69839"
      },
      "source": [
        "###########################################################################################\r\n",
        "# Proces treniranja\r\n",
        "###########################################################################################\r\n",
        "\r\n",
        "# Podešavanje parametara \r\n",
        "num_epochs = 200   # broj epoha\r\n",
        "num_batches = 25  # broj batch-eva u okviru  epohe\r\n",
        "b_size = 183      # broj slika u batch-u\r\n",
        "\r\n",
        "# Kreiranje sesije\r\n",
        "session = tf.Session()\r\n",
        "session.run(init)\r\n",
        "\r\n",
        "# Za svaku epohu\r\n",
        "for i in range(num_epochs):\r\n",
        "    # I svaki batch u epohi\r\n",
        "    for j in range(num_batches):\r\n",
        "        _, loss_value = session.run([train, loss], \r\n",
        "                                    feed_dict={images_ph: images_a[j*b_size:(j+1)*b_size], labels_ph: labels_a[j*b_size:(j+1)*b_size]})\r\n",
        "                                    \r\n",
        "    if i % 10 == 0:\r\n",
        "        # Izvršavanje \"predicted_classes\" čvora\r\n",
        "        predicted = session.run([predicted_classes], feed_dict={images_ph: scaled_imgs})[0]\r\n",
        "\r\n",
        "        # Izračunavanje tačnosti\r\n",
        "        match_count = sum([int(y == y_) for y, y_ in zip(labels, predicted)])\r\n",
        "        accuracy = match_count / len(labels)\r\n",
        "        print(\"Trening podaci: Epoha {0}: Mera gubitka: {1}, Tačnost: {2}\".format(i, loss_value, accuracy))\r\n"
      ],
      "execution_count": 24,
      "outputs": [
        {
          "output_type": "stream",
          "text": [
            "Trening podaci: Epoha 0: Mera gubitka: 4.490381717681885, Tačnost: 0.041530054644808745\n",
            "Trening podaci: Epoha 10: Mera gubitka: 1.4075584411621094, Tačnost: 0.5665573770491803\n",
            "Trening podaci: Epoha 20: Mera gubitka: 1.0362995862960815, Tačnost: 0.7586885245901639\n",
            "Trening podaci: Epoha 30: Mera gubitka: 0.675529420375824, Tačnost: 0.8465573770491803\n",
            "Trening podaci: Epoha 40: Mera gubitka: 0.440976619720459, Tačnost: 0.9027322404371585\n",
            "Trening podaci: Epoha 50: Mera gubitka: 0.27310115098953247, Tačnost: 0.9250273224043716\n",
            "Trening podaci: Epoha 60: Mera gubitka: 0.24970372021198273, Tačnost: 0.9027322404371585\n",
            "Trening podaci: Epoha 70: Mera gubitka: 0.09246090054512024, Tačnost: 0.9702732240437159\n",
            "Trening podaci: Epoha 80: Mera gubitka: 0.050676558166742325, Tačnost: 0.981639344262295\n",
            "Trening podaci: Epoha 90: Mera gubitka: 0.031228922307491302, Tačnost: 0.9901639344262295\n",
            "Trening podaci: Epoha 100: Mera gubitka: 0.0209694504737854, Tačnost: 0.993879781420765\n",
            "Trening podaci: Epoha 110: Mera gubitka: 0.015066375955939293, Tačnost: 0.9962841530054645\n",
            "Trening podaci: Epoha 120: Mera gubitka: 0.011200170032680035, Tačnost: 0.9978142076502732\n",
            "Trening podaci: Epoha 130: Mera gubitka: 0.00862035620957613, Tačnost: 0.9986885245901639\n",
            "Trening podaci: Epoha 140: Mera gubitka: 0.006821676157414913, Tačnost: 0.9995628415300546\n",
            "Trening podaci: Epoha 150: Mera gubitka: 0.005579717922955751, Tačnost: 0.9995628415300546\n",
            "Trening podaci: Epoha 160: Mera gubitka: 0.004645985551178455, Tačnost: 1.0\n",
            "Trening podaci: Epoha 170: Mera gubitka: 0.0039414032362401485, Tačnost: 1.0\n",
            "Trening podaci: Epoha 180: Mera gubitka: 0.0033825936261564493, Tačnost: 1.0\n",
            "Trening podaci: Epoha 190: Mera gubitka: 0.0029406144749373198, Tačnost: 1.0\n"
          ],
          "name": "stdout"
        }
      ]
    },
    {
      "cell_type": "code",
      "metadata": {
        "colab": {
          "base_uri": "https://localhost:8080/"
        },
        "id": "_csjgv1YZ_z-",
        "outputId": "a4bcf345-3033-4b7b-cd43-a9e5743ad0eb"
      },
      "source": [
        "###########################################################################################\r\n",
        "# Evaluacija\r\n",
        "###########################################################################################\r\n",
        "\r\n",
        "# Učitavanje test skupa podataka\r\n",
        "test_images, test_labels = load_data(test_data_dir)\r\n",
        "\r\n",
        "# Predobrada slika, identično kao i za trening skup podataka.\r\n",
        "test_scaled_imgs = [skimage.transform.resize(image, (32, 32), mode='constant')\r\n",
        "                 for image in test_images]\r\n",
        "test_labels_a = np.array(test_labels)\r\n",
        "test_images_a = np.array(test_scaled_imgs)\r\n",
        "\r\n",
        "# Pokretanje inferencije nad celim testnim skupom slika\r\n",
        "predicted = session.run([predicted_classes], \r\n",
        "                        feed_dict={images_ph: test_scaled_imgs})[0]\r\n",
        " \r\n",
        "test_loss_value = session.run(loss, \r\n",
        "                        feed_dict={images_ph: test_images_a, labels_ph: test_labels_a})\r\n",
        "\r\n",
        "# Izračunavanje tačnosti\r\n",
        "match_count = sum([int(y == y_) for y, y_ in zip(test_labels, predicted)])\r\n",
        "test_accuracy = match_count / len(test_labels)\r\n",
        "print(\"Test podaci: Mera gubitka: {0}, Tačnost: {1}\".format(test_loss_value, test_accuracy))\r\n",
        "\r\n",
        "session.close()"
      ],
      "execution_count": 25,
      "outputs": [
        {
          "output_type": "stream",
          "text": [
            "Test podaci: Mera gubitka: 0.9413958787918091, Tačnost: 0.8492063492063492\n"
          ],
          "name": "stdout"
        }
      ]
    }
  ]
}